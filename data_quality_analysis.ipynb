{
 "cells": [
  {
   "cell_type": "code",
   "execution_count": 8,
   "metadata": {},
   "outputs": [
    {
     "name": "stdout",
     "output_type": "stream",
     "text": [
      "            artist_id   artist_name  artist_popularity  \\\n",
      "0  06HL4z0CvFAxyc27GX  Taylor Swift                120   \n",
      "1  06HL4z0CvFAxyc27GX  Taylor Swift                120   \n",
      "2  06HL4z0CvFAxyc27GX  Taylor Swift                120   \n",
      "3  06HL4z0CvFAxyc27GX  Taylor Swift                120   \n",
      "4  06HL4z0CvFAxyc27GX  Taylor Swift                120   \n",
      "\n",
      "                 album_id                        album_name  \\\n",
      "0  1o59UpKw81iHR0HPiSkJR0  1989 (Taylor's Version) [Deluxe]   \n",
      "1  1o59UpKw81iHR0HPiSkJR0  1989 (Taylor's Version) [Deluxe]   \n",
      "2  1o59UpKw81iHR0HPiSkJR0  1989 (Taylor's Version) [Deluxe]   \n",
      "3  1o59UpKw81iHR0HPiSkJR0  1989 (Taylor's Version) [Deluxe]   \n",
      "4  1o59UpKw81iHR0HPiSkJR0  1989 (Taylor's Version) [Deluxe]   \n",
      "\n",
      "  album_release_date album_total_tracks  disc_number  duration_ms explicit  \\\n",
      "0         2023-10-27                 22            1       212600    False   \n",
      "1         2023-10-27                 22            1       231833    False   \n",
      "2         2023-10-27                 22            1       231000    False   \n",
      "3         2023-10-27                 22            1       235800    False   \n",
      "4         2023-10-27                 22            1       193289    False   \n",
      "\n",
      "   ...  audio_features_loudness  audio_features_mode  \\\n",
      "0  ...                   -4.840                    1   \n",
      "1  ...                   -5.376                    1   \n",
      "2  ...                   -4.785                    0   \n",
      "3  ...                   -5.968                    1   \n",
      "4  ...                   -5.579                    1   \n",
      "\n",
      "  audio_features_speechiness audio_features_acousticness  \\\n",
      "0                     0.0327                    0.009420   \n",
      "1                     0.0670                    5.000000   \n",
      "2                     0.0397                    0.000421   \n",
      "3                     0.0447                   -0.000537   \n",
      "4                     0.0317                    0.000656   \n",
      "\n",
      "   audio_features_instrumentalness  audio_features_liveness  \\\n",
      "0                         3.66e-05                   0.3670   \n",
      "1                                0                   0.1680   \n",
      "2             0.019700000000000002                   0.0899   \n",
      "3           5.5900000000000004e-05                   0.3850   \n",
      "4                                0                   0.1310   \n",
      "\n",
      "   audio_features_valence  audio_features_tempo       audio_features_id  \\\n",
      "0                   0.685               116.998  4WUepByoeqcedHoYhSNHRt   \n",
      "1                   0.701                96.057  0108kcWLnn2HlH2kedi1gn   \n",
      "2                   0.305                94.868  3Vpk1hfMAQme8VJ0SNRSkd   \n",
      "3                   0.206                92.021  1OcSfkeCg9hRC2sFKB4IMJ   \n",
      "4                   0.520                96.997  2k0ZEeAqzvYMcx9Qt5aClQ   \n",
      "\n",
      "   audio_features_time_signature  \n",
      "0                            4.0  \n",
      "1                            4.0  \n",
      "2                            4.0  \n",
      "3                            4.0  \n",
      "4                            4.0  \n",
      "\n",
      "[5 rows x 27 columns]\n"
     ]
    }
   ],
   "source": [
    "import pandas as pd\n",
    "\n",
    "# Cargar el CSV en un DataFrame\n",
    "df = pd.read_csv('DB/dataset.csv')\n",
    "print(df.head())\n"
   ]
  },
  {
   "cell_type": "code",
   "execution_count": 9,
   "metadata": {},
   "outputs": [
    {
     "name": "stdout",
     "output_type": "stream",
     "text": [
      "<class 'pandas.core.frame.DataFrame'>\n",
      "RangeIndex: 539 entries, 0 to 538\n",
      "Data columns (total 27 columns):\n",
      " #   Column                           Non-Null Count  Dtype  \n",
      "---  ------                           --------------  -----  \n",
      " 0   artist_id                        539 non-null    object \n",
      " 1   artist_name                      539 non-null    object \n",
      " 2   artist_popularity                539 non-null    int64  \n",
      " 3   album_id                         539 non-null    object \n",
      " 4   album_name                       477 non-null    object \n",
      " 5   album_release_date               539 non-null    object \n",
      " 6   album_total_tracks               539 non-null    object \n",
      " 7   disc_number                      539 non-null    int64  \n",
      " 8   duration_ms                      539 non-null    int64  \n",
      " 9   explicit                         539 non-null    object \n",
      " 10  track_number                     539 non-null    int64  \n",
      " 11  track_popularity                 539 non-null    int64  \n",
      " 12  track_id                         531 non-null    object \n",
      " 13  track_name                       532 non-null    object \n",
      " 14  audio_features_danceability      537 non-null    float64\n",
      " 15  audio_features_energy            537 non-null    float64\n",
      " 16  audio_features_key               538 non-null    float64\n",
      " 17  audio_features_loudness          537 non-null    float64\n",
      " 18  audio_features_mode              539 non-null    int64  \n",
      " 19  audio_features_speechiness       538 non-null    float64\n",
      " 20  audio_features_acousticness      538 non-null    float64\n",
      " 21  audio_features_instrumentalness  539 non-null    object \n",
      " 22  audio_features_liveness          538 non-null    float64\n",
      " 23  audio_features_valence           539 non-null    float64\n",
      " 24  audio_features_tempo             538 non-null    float64\n",
      " 25  audio_features_id                539 non-null    object \n",
      " 26  audio_features_time_signature    538 non-null    float64\n",
      "dtypes: float64(10), int64(6), object(11)\n",
      "memory usage: 113.8+ KB\n",
      "None\n"
     ]
    }
   ],
   "source": [
    "# Información general del DataFrame\n",
    "print(df.info())"
   ]
  },
  {
   "cell_type": "code",
   "execution_count": 10,
   "metadata": {},
   "outputs": [
    {
     "name": "stdout",
     "output_type": "stream",
     "text": [
      "artist_id                           0\n",
      "artist_name                         0\n",
      "artist_popularity                   0\n",
      "album_id                            0\n",
      "album_name                         62\n",
      "album_release_date                  0\n",
      "album_total_tracks                  0\n",
      "disc_number                         0\n",
      "duration_ms                         0\n",
      "explicit                            0\n",
      "track_number                        0\n",
      "track_popularity                    0\n",
      "track_id                            8\n",
      "track_name                          7\n",
      "audio_features_danceability         2\n",
      "audio_features_energy               2\n",
      "audio_features_key                  1\n",
      "audio_features_loudness             2\n",
      "audio_features_mode                 0\n",
      "audio_features_speechiness          1\n",
      "audio_features_acousticness         1\n",
      "audio_features_instrumentalness     0\n",
      "audio_features_liveness             1\n",
      "audio_features_valence              0\n",
      "audio_features_tempo                1\n",
      "audio_features_id                   0\n",
      "audio_features_time_signature       1\n",
      "dtype: int64\n"
     ]
    }
   ],
   "source": [
    "print(df.isnull().sum())\n"
   ]
  },
  {
   "cell_type": "code",
   "execution_count": 11,
   "metadata": {},
   "outputs": [],
   "source": [
    "df['album_release_date'] = pd.to_datetime(df['album_release_date'], errors='coerce')\n"
   ]
  },
  {
   "cell_type": "code",
   "execution_count": 12,
   "metadata": {},
   "outputs": [
    {
     "name": "stdout",
     "output_type": "stream",
     "text": [
      "artist_id                           0\n",
      "artist_name                         0\n",
      "artist_popularity                   0\n",
      "album_id                            0\n",
      "album_name                         62\n",
      "album_release_date                  0\n",
      "album_total_tracks                  0\n",
      "disc_number                         0\n",
      "duration_ms                         0\n",
      "explicit                            0\n",
      "track_number                        0\n",
      "track_popularity                    0\n",
      "track_id                            8\n",
      "track_name                          7\n",
      "audio_features_danceability         2\n",
      "audio_features_energy               2\n",
      "audio_features_key                  1\n",
      "audio_features_loudness             2\n",
      "audio_features_mode                 0\n",
      "audio_features_speechiness          1\n",
      "audio_features_acousticness         1\n",
      "audio_features_instrumentalness     0\n",
      "audio_features_liveness             1\n",
      "audio_features_valence              0\n",
      "audio_features_tempo                1\n",
      "audio_features_id                   0\n",
      "audio_features_time_signature       1\n",
      "dtype: int64\n"
     ]
    }
   ],
   "source": [
    "print(df.isnull().sum())\n"
   ]
  },
  {
   "cell_type": "code",
   "execution_count": 13,
   "metadata": {},
   "outputs": [
    {
     "name": "stdout",
     "output_type": "stream",
     "text": [
      "Empty DataFrame\n",
      "Columns: [artist_id, artist_name, artist_popularity, album_id, album_name, album_release_date, album_total_tracks, disc_number, duration_ms, explicit, track_number, track_popularity, track_id, track_name, audio_features_danceability, audio_features_energy, audio_features_key, audio_features_loudness, audio_features_mode, audio_features_speechiness, audio_features_acousticness, audio_features_instrumentalness, audio_features_liveness, audio_features_valence, audio_features_tempo, audio_features_id, audio_features_time_signature]\n",
      "Index: []\n",
      "\n",
      "[0 rows x 27 columns]\n"
     ]
    }
   ],
   "source": [
    "#Dataframe con albumes\n",
    "filas_duplicadas = df[df.duplicated(subset=['album_id'], keep=False)]\n",
    "filas_sin_repeticiones = df[~df['album_id'].isin(filas_duplicadas['album_id'])]\n",
    "\n",
    "print(filas_sin_repeticiones)\n",
    "#df_albumnes.info()"
   ]
  }
 ],
 "metadata": {
  "kernelspec": {
   "display_name": "Python 3",
   "language": "python",
   "name": "python3"
  },
  "language_info": {
   "codemirror_mode": {
    "name": "ipython",
    "version": 3
   },
   "file_extension": ".py",
   "mimetype": "text/x-python",
   "name": "python",
   "nbconvert_exporter": "python",
   "pygments_lexer": "ipython3",
   "version": "3.8.10"
  }
 },
 "nbformat": 4,
 "nbformat_minor": 2
}
