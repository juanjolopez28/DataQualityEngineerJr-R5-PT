{
 "cells": [
  {
   "cell_type": "markdown",
   "metadata": {},
   "source": [
    "*Analisis de los datos desanidados segun albúm*"
   ]
  },
  {
   "cell_type": "code",
   "execution_count": 8,
   "metadata": {},
   "outputs": [
    {
     "name": "stdout",
     "output_type": "stream",
     "text": [
      "            artist_id   artist_name  artist_popularity  \\\n",
      "0  06HL4z0CvFAxyc27GX  Taylor Swift                120   \n",
      "1  06HL4z0CvFAxyc27GX  Taylor Swift                120   \n",
      "2  06HL4z0CvFAxyc27GX  Taylor Swift                120   \n",
      "3  06HL4z0CvFAxyc27GX  Taylor Swift                120   \n",
      "4  06HL4z0CvFAxyc27GX  Taylor Swift                120   \n",
      "\n",
      "                 album_id                        album_name  \\\n",
      "0  1o59UpKw81iHR0HPiSkJR0  1989 (Taylor's Version) [Deluxe]   \n",
      "1  64LU4c1nfjz1t4VnGhagcg           1989 (Taylor's Version)   \n",
      "2  5AEDGbliTTfjOB8TSm1sxt      Speak Now (Taylor's Version)   \n",
      "3  1fnJ7k0bllNfL1kVdNVW1A  Midnights (The Til Dawn Edition)   \n",
      "4  3lS1y25WAhcqJDATJK70Mq           Midnights (3am Edition)   \n",
      "\n",
      "  album_release_date album_total_tracks  \\\n",
      "0         2023-10-27                 22   \n",
      "1         2023-10-26                 21   \n",
      "2         2023-07-07                 22   \n",
      "3         2027-05-26                 24   \n",
      "4         2022-10-22                 20   \n",
      "\n",
      "                                              tracks  \n",
      "0  [{'disc_number': 1, 'duration_ms': 212600, 'ex...  \n",
      "1  [{'disc_number': 1, 'duration_ms': 212600, 'ex...  \n",
      "2  [{'disc_number': 1, 'duration_ms': 231706, 'ex...  \n",
      "3  [{'disc_number': 1, 'duration_ms': 202395, 'ex...  \n",
      "4  [{'disc_number': 1, 'duration_ms': 202395, 'ex...  \n"
     ]
    }
   ],
   "source": [
    "import pandas as pd\n",
    "\n",
    "# Cargar el CSV en un DataFrame\n",
    "df = pd.read_csv('DB/dataset_albumes.csv')\n",
    "print(df.head())\n"
   ]
  },
  {
   "cell_type": "code",
   "execution_count": 9,
   "metadata": {},
   "outputs": [
    {
     "name": "stdout",
     "output_type": "stream",
     "text": [
      "<class 'pandas.core.frame.DataFrame'>\n",
      "RangeIndex: 27 entries, 0 to 26\n",
      "Data columns (total 8 columns):\n",
      " #   Column              Non-Null Count  Dtype \n",
      "---  ------              --------------  ----- \n",
      " 0   artist_id           27 non-null     object\n",
      " 1   artist_name         27 non-null     object\n",
      " 2   artist_popularity   27 non-null     int64 \n",
      " 3   album_id            27 non-null     object\n",
      " 4   album_name          25 non-null     object\n",
      " 5   album_release_date  27 non-null     object\n",
      " 6   album_total_tracks  27 non-null     object\n",
      " 7   tracks              27 non-null     object\n",
      "dtypes: int64(1), object(7)\n",
      "memory usage: 1.8+ KB\n",
      "None\n"
     ]
    }
   ],
   "source": [
    "# Información general del DataFrame\n",
    "print(df.info())"
   ]
  },
  {
   "cell_type": "code",
   "execution_count": 11,
   "metadata": {},
   "outputs": [
    {
     "name": "stdout",
     "output_type": "stream",
     "text": [
      "artist_id             object\n",
      "artist_name           object\n",
      "artist_popularity      int64\n",
      "album_id              object\n",
      "album_name            object\n",
      "album_release_date    object\n",
      "album_total_tracks    object\n",
      "tracks                object\n",
      "dtype: object\n"
     ]
    }
   ],
   "source": [
    "print(df.dtypes)\n"
   ]
  },
  {
   "cell_type": "code",
   "execution_count": 3,
   "metadata": {},
   "outputs": [
    {
     "name": "stdout",
     "output_type": "stream",
     "text": [
      "artist_id             0\n",
      "artist_name           0\n",
      "artist_popularity     0\n",
      "album_id              0\n",
      "album_name            2\n",
      "album_release_date    0\n",
      "album_total_tracks    0\n",
      "tracks                0\n",
      "dtype: int64\n"
     ]
    }
   ],
   "source": [
    "print(df.isnull().sum())\n"
   ]
  },
  {
   "cell_type": "code",
   "execution_count": 13,
   "metadata": {},
   "outputs": [
    {
     "name": "stdout",
     "output_type": "stream",
     "text": [
      "Fila con valores nulos en posición 16:\n",
      "    - album_name: Valor nulo\n",
      "\n",
      "==================================================\n",
      "\n",
      "Fila con valores nulos en posición 20:\n",
      "    - album_name: Valor nulo\n",
      "\n",
      "==================================================\n",
      "\n"
     ]
    }
   ],
   "source": [
    "filas_nulas = df[df.isnull().any(axis=1)]\n",
    "\n",
    "# Imprime las filas con valores nulos, su número de fila y el nombre de la columna\n",
    "for indice, fila in filas_nulas.iterrows():\n",
    "    print(f\"Fila con valores nulos en posición {indice}:\")\n",
    "    for columna, valor in fila.items():\n",
    "        if pd.isnull(valor):\n",
    "            print(f\"    - {columna}: Valor nulo\")\n",
    "    print(\"\\n\" + \"=\"*50 + \"\\n\")"
   ]
  },
  {
   "cell_type": "code",
   "execution_count": 10,
   "metadata": {},
   "outputs": [
    {
     "name": "stdout",
     "output_type": "stream",
     "text": [
      "Fila duplicada en posición 13:\n",
      "artist_id                                            06HL4z0CvFAxyc27GX\n",
      "artist_name                                                Taylor Swift\n",
      "artist_popularity                                                   120\n",
      "album_id                                         1NAmidJlEaVgA3MpcPFYGq\n",
      "album_name                                                        Lover\n",
      "album_release_date                                           2019-08-23\n",
      "album_total_tracks                                                   18\n",
      "tracks                [{'disc_number': 1, 'duration_ms': 170640, 'ex...\n",
      "Name: 13, dtype: object\n",
      "\n",
      "Filas duplicadas:\n",
      "             artist_id   artist_name  artist_popularity  \\\n",
      "13  06HL4z0CvFAxyc27GX  Taylor Swift                120   \n",
      "14  06HL4z0CvFAxyc27GX  Taylor Swift                120   \n",
      "\n",
      "                  album_id album_name album_release_date album_total_tracks  \\\n",
      "13  1NAmidJlEaVgA3MpcPFYGq      Lover         2019-08-23                 18   \n",
      "14  1NAmidJlEaVgA3MpcPFYGq      Lover         2019-08-23                 18   \n",
      "\n",
      "                                               tracks  \n",
      "13  [{'disc_number': 1, 'duration_ms': 170640, 'ex...  \n",
      "14  [{'disc_number': 1, 'duration_ms': 170640, 'ex...  \n",
      "\n",
      "==================================================\n",
      "\n",
      "Fila duplicada en posición 14:\n",
      "artist_id                                            06HL4z0CvFAxyc27GX\n",
      "artist_name                                                Taylor Swift\n",
      "artist_popularity                                                   120\n",
      "album_id                                         1NAmidJlEaVgA3MpcPFYGq\n",
      "album_name                                                        Lover\n",
      "album_release_date                                           2019-08-23\n",
      "album_total_tracks                                                   18\n",
      "tracks                [{'disc_number': 1, 'duration_ms': 170640, 'ex...\n",
      "Name: 14, dtype: object\n",
      "\n",
      "Filas duplicadas:\n",
      "             artist_id   artist_name  artist_popularity  \\\n",
      "13  06HL4z0CvFAxyc27GX  Taylor Swift                120   \n",
      "14  06HL4z0CvFAxyc27GX  Taylor Swift                120   \n",
      "\n",
      "                  album_id album_name album_release_date album_total_tracks  \\\n",
      "13  1NAmidJlEaVgA3MpcPFYGq      Lover         2019-08-23                 18   \n",
      "14  1NAmidJlEaVgA3MpcPFYGq      Lover         2019-08-23                 18   \n",
      "\n",
      "                                               tracks  \n",
      "13  [{'disc_number': 1, 'duration_ms': 170640, 'ex...  \n",
      "14  [{'disc_number': 1, 'duration_ms': 170640, 'ex...  \n",
      "\n",
      "==================================================\n",
      "\n"
     ]
    }
   ],
   "source": [
    "duplicados = df[df.duplicated(subset='album_id', keep=False)]\n",
    "\n",
    "# Imprime las filas duplicadas y su posición\n",
    "for indice, fila in duplicados.iterrows():\n",
    "    filas_duplicadas = df[df['album_id'] == fila['album_id']]\n",
    "    \n",
    "    print(f\"Fila duplicada en posición {indice}:\")\n",
    "    print(fila)\n",
    "    \n",
    "    print(f\"\\nFilas duplicadas:\")\n",
    "    print(filas_duplicadas)\n",
    "    print(\"\\n\" + \"=\"*50 + \"\\n\")"
   ]
  },
  {
   "cell_type": "code",
   "execution_count": 11,
   "metadata": {},
   "outputs": [],
   "source": [
    "df['album_release_date'] = pd.to_datetime(df['album_release_date'], errors='coerce')\n"
   ]
  }
 ],
 "metadata": {
  "kernelspec": {
   "display_name": "Python 3",
   "language": "python",
   "name": "python3"
  },
  "language_info": {
   "codemirror_mode": {
    "name": "ipython",
    "version": 3
   },
   "file_extension": ".py",
   "mimetype": "text/x-python",
   "name": "python",
   "nbconvert_exporter": "python",
   "pygments_lexer": "ipython3",
   "version": "3.8.10"
  }
 },
 "nbformat": 4,
 "nbformat_minor": 2
}
