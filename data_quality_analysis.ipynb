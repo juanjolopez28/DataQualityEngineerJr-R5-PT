{
 "cells": [
  {
   "cell_type": "markdown",
   "metadata": {},
   "source": [
    "# Análisis de los datos desanidados segun albúm"
   ]
  },
  {
   "cell_type": "code",
   "execution_count": 10,
   "metadata": {},
   "outputs": [
    {
     "name": "stdout",
     "output_type": "stream",
     "text": [
      "            artist_id   artist_name  artist_popularity  \\\n",
      "0  06HL4z0CvFAxyc27GX  Taylor Swift                120   \n",
      "1  06HL4z0CvFAxyc27GX  Taylor Swift                120   \n",
      "2  06HL4z0CvFAxyc27GX  Taylor Swift                120   \n",
      "3  06HL4z0CvFAxyc27GX  Taylor Swift                120   \n",
      "4  06HL4z0CvFAxyc27GX  Taylor Swift                120   \n",
      "\n",
      "                 album_id                        album_name  \\\n",
      "0  1o59UpKw81iHR0HPiSkJR0  1989 (Taylor's Version) [Deluxe]   \n",
      "1  64LU4c1nfjz1t4VnGhagcg           1989 (Taylor's Version)   \n",
      "2  5AEDGbliTTfjOB8TSm1sxt      Speak Now (Taylor's Version)   \n",
      "3  1fnJ7k0bllNfL1kVdNVW1A  Midnights (The Til Dawn Edition)   \n",
      "4  3lS1y25WAhcqJDATJK70Mq           Midnights (3am Edition)   \n",
      "\n",
      "  album_release_date album_total_tracks  \\\n",
      "0         2023-10-27                 22   \n",
      "1         2023-10-26                 21   \n",
      "2         2023-07-07                 22   \n",
      "3         2027-05-26                 24   \n",
      "4         2022-10-22                 20   \n",
      "\n",
      "                                              tracks  \n",
      "0  [{'disc_number': 1, 'duration_ms': 212600, 'ex...  \n",
      "1  [{'disc_number': 1, 'duration_ms': 212600, 'ex...  \n",
      "2  [{'disc_number': 1, 'duration_ms': 231706, 'ex...  \n",
      "3  [{'disc_number': 1, 'duration_ms': 202395, 'ex...  \n",
      "4  [{'disc_number': 1, 'duration_ms': 202395, 'ex...  \n"
     ]
    }
   ],
   "source": [
    "import pandas as pd\n",
    "from IPython.display import display\n",
    "\n",
    "# Cargamos los datos del csv desanidado a albumes\n",
    "df = pd.read_csv('DB/dataset_albumes.csv')\n",
    "# Imprimimos los primeros registros para una primera referencia\n",
    "print(df.head())\n"
   ]
  },
  {
   "cell_type": "code",
   "execution_count": 9,
   "metadata": {},
   "outputs": [
    {
     "name": "stdout",
     "output_type": "stream",
     "text": [
      "<class 'pandas.core.frame.DataFrame'>\n",
      "RangeIndex: 27 entries, 0 to 26\n",
      "Data columns (total 8 columns):\n",
      " #   Column              Non-Null Count  Dtype \n",
      "---  ------              --------------  ----- \n",
      " 0   artist_id           27 non-null     object\n",
      " 1   artist_name         27 non-null     object\n",
      " 2   artist_popularity   27 non-null     int64 \n",
      " 3   album_id            27 non-null     object\n",
      " 4   album_name          25 non-null     object\n",
      " 5   album_release_date  27 non-null     object\n",
      " 6   album_total_tracks  27 non-null     object\n",
      " 7   tracks              27 non-null     object\n",
      "dtypes: int64(1), object(7)\n",
      "memory usage: 1.8+ KB\n",
      "None\n"
     ]
    }
   ],
   "source": [
    "# Información general del DataFrame\n",
    "print(df.info())"
   ]
  },
  {
   "cell_type": "code",
   "execution_count": 11,
   "metadata": {},
   "outputs": [
    {
     "name": "stdout",
     "output_type": "stream",
     "text": [
      "artist_id             object\n",
      "artist_name           object\n",
      "artist_popularity      int64\n",
      "album_id              object\n",
      "album_name            object\n",
      "album_release_date    object\n",
      "album_total_tracks    object\n",
      "tracks                object\n",
      "dtype: object\n"
     ]
    }
   ],
   "source": [
    "# Imprimimos tipos de datos de cada atributo\n",
    "print(df.dtypes)\n"
   ]
  },
  {
   "cell_type": "code",
   "execution_count": 3,
   "metadata": {},
   "outputs": [
    {
     "name": "stdout",
     "output_type": "stream",
     "text": [
      "artist_id             0\n",
      "artist_name           0\n",
      "artist_popularity     0\n",
      "album_id              0\n",
      "album_name            2\n",
      "album_release_date    0\n",
      "album_total_tracks    0\n",
      "tracks                0\n",
      "dtype: int64\n"
     ]
    }
   ],
   "source": [
    "#Verificamos datos nulos de cada atributo\n",
    "print(df.isnull().sum())"
   ]
  },
  {
   "cell_type": "code",
   "execution_count": 16,
   "metadata": {},
   "outputs": [
    {
     "name": "stdout",
     "output_type": "stream",
     "text": [
      "Filas con 'album_name' nulo:\n",
      "             artist_id   artist_name  artist_popularity  \\\n",
      "16  06HL4z0CvFAxyc27GX  Taylor Swift                120   \n",
      "20  06HL4z0CvFAxyc27GX  Taylor Swift                120   \n",
      "\n",
      "                  album_id album_name album_release_date album_total_tracks  \\\n",
      "16  1MPAXuTVL2Ej5x0JHiSPq8        NaN         2017-11-09                 46   \n",
      "20  6fyR4wBPwLHKcRtxgd4sGh        NaN         2010-10-25                 16   \n",
      "\n",
      "                                               tracks  \n",
      "16  [{'disc_number': 1, 'duration_ms': 329160, 'ex...  \n",
      "20  [{'disc_number': 1, 'duration_ms': 336826, 'ex...  \n",
      "\n",
      "Nuevo DataFrame con Filas Nulas:\n"
     ]
    },
    {
     "data": {
      "text/html": [
       "<div>\n",
       "<style scoped>\n",
       "    .dataframe tbody tr th:only-of-type {\n",
       "        vertical-align: middle;\n",
       "    }\n",
       "\n",
       "    .dataframe tbody tr th {\n",
       "        vertical-align: top;\n",
       "    }\n",
       "\n",
       "    .dataframe thead th {\n",
       "        text-align: right;\n",
       "    }\n",
       "</style>\n",
       "<table border=\"1\" class=\"dataframe\">\n",
       "  <thead>\n",
       "    <tr style=\"text-align: right;\">\n",
       "      <th></th>\n",
       "      <th>Index</th>\n",
       "      <th>artist_id</th>\n",
       "      <th>artist_name</th>\n",
       "      <th>album_id</th>\n",
       "      <th>album_name</th>\n",
       "    </tr>\n",
       "  </thead>\n",
       "  <tbody>\n",
       "    <tr>\n",
       "      <th>0</th>\n",
       "      <td>16</td>\n",
       "      <td>06HL4z0CvFAxyc27GX</td>\n",
       "      <td>Taylor Swift</td>\n",
       "      <td>1MPAXuTVL2Ej5x0JHiSPq8</td>\n",
       "      <td>NaN</td>\n",
       "    </tr>\n",
       "    <tr>\n",
       "      <th>1</th>\n",
       "      <td>20</td>\n",
       "      <td>06HL4z0CvFAxyc27GX</td>\n",
       "      <td>Taylor Swift</td>\n",
       "      <td>6fyR4wBPwLHKcRtxgd4sGh</td>\n",
       "      <td>NaN</td>\n",
       "    </tr>\n",
       "  </tbody>\n",
       "</table>\n",
       "</div>"
      ],
      "text/plain": [
       "   Index           artist_id   artist_name                album_id album_name\n",
       "0     16  06HL4z0CvFAxyc27GX  Taylor Swift  1MPAXuTVL2Ej5x0JHiSPq8        NaN\n",
       "1     20  06HL4z0CvFAxyc27GX  Taylor Swift  6fyR4wBPwLHKcRtxgd4sGh        NaN"
      ]
     },
     "metadata": {},
     "output_type": "display_data"
    }
   ],
   "source": [
    "# Filtrar las filas con valores nulos en la columna 'album_name'\n",
    "filas_nulas = df[df['album_name'].isnull()]\n",
    "\n",
    "# Imprimir las filas con valores nulos en 'album_name'\n",
    "print(\"Filas con 'album_name' nulo:\")\n",
    "print(filas_nulas)\n",
    "\n",
    "# Crear un nuevo DataFrame con las filas nulas\n",
    "df_filas_nulas = pd.DataFrame(filas_nulas)\n",
    "\n",
    "# Mostrar el nuevo DataFrame con las filas nulas\n",
    "print(\"\\nNuevo DataFrame con Filas Nulas:\")\n",
    "# Asignar un nombre al índice\n",
    "df_filas_nulas.index.name = 'Index'\n",
    "display(df_filas_nulas[['artist_id','artist_name','album_id', 'album_name']].reset_index())\n",
    "\n",
    "\n",
    "\n"
   ]
  },
  {
   "cell_type": "markdown",
   "metadata": {},
   "source": [
    "> Encontramos 02 valores nulos en el campo album name "
   ]
  },
  {
   "cell_type": "code",
   "execution_count": 10,
   "metadata": {},
   "outputs": [
    {
     "name": "stdout",
     "output_type": "stream",
     "text": [
      "Fila duplicada en posición 13:\n",
      "artist_id                                            06HL4z0CvFAxyc27GX\n",
      "artist_name                                                Taylor Swift\n",
      "artist_popularity                                                   120\n",
      "album_id                                         1NAmidJlEaVgA3MpcPFYGq\n",
      "album_name                                                        Lover\n",
      "album_release_date                                           2019-08-23\n",
      "album_total_tracks                                                   18\n",
      "tracks                [{'disc_number': 1, 'duration_ms': 170640, 'ex...\n",
      "Name: 13, dtype: object\n",
      "\n",
      "Filas duplicadas:\n",
      "             artist_id   artist_name  artist_popularity  \\\n",
      "13  06HL4z0CvFAxyc27GX  Taylor Swift                120   \n",
      "14  06HL4z0CvFAxyc27GX  Taylor Swift                120   \n",
      "\n",
      "                  album_id album_name album_release_date album_total_tracks  \\\n",
      "13  1NAmidJlEaVgA3MpcPFYGq      Lover         2019-08-23                 18   \n",
      "14  1NAmidJlEaVgA3MpcPFYGq      Lover         2019-08-23                 18   \n",
      "\n",
      "                                               tracks  \n",
      "13  [{'disc_number': 1, 'duration_ms': 170640, 'ex...  \n",
      "14  [{'disc_number': 1, 'duration_ms': 170640, 'ex...  \n",
      "\n",
      "==================================================\n",
      "\n",
      "Fila duplicada en posición 14:\n",
      "artist_id                                            06HL4z0CvFAxyc27GX\n",
      "artist_name                                                Taylor Swift\n",
      "artist_popularity                                                   120\n",
      "album_id                                         1NAmidJlEaVgA3MpcPFYGq\n",
      "album_name                                                        Lover\n",
      "album_release_date                                           2019-08-23\n",
      "album_total_tracks                                                   18\n",
      "tracks                [{'disc_number': 1, 'duration_ms': 170640, 'ex...\n",
      "Name: 14, dtype: object\n",
      "\n",
      "Filas duplicadas:\n",
      "             artist_id   artist_name  artist_popularity  \\\n",
      "13  06HL4z0CvFAxyc27GX  Taylor Swift                120   \n",
      "14  06HL4z0CvFAxyc27GX  Taylor Swift                120   \n",
      "\n",
      "                  album_id album_name album_release_date album_total_tracks  \\\n",
      "13  1NAmidJlEaVgA3MpcPFYGq      Lover         2019-08-23                 18   \n",
      "14  1NAmidJlEaVgA3MpcPFYGq      Lover         2019-08-23                 18   \n",
      "\n",
      "                                               tracks  \n",
      "13  [{'disc_number': 1, 'duration_ms': 170640, 'ex...  \n",
      "14  [{'disc_number': 1, 'duration_ms': 170640, 'ex...  \n",
      "\n",
      "==================================================\n",
      "\n"
     ]
    }
   ],
   "source": [
    "duplicados = df[df.duplicated(subset='album_id', keep=False)]\n",
    "\n",
    "# Imprime las filas duplicadas y su posición según el campo ID\n",
    "for indice, fila in duplicados.iterrows():\n",
    "    filas_duplicadas = df[df['album_id'] == fila['album_id']]\n",
    "    \n",
    "    print(f\"Fila duplicada en posición {indice}:\")\n",
    "    print(fila)\n",
    "    \n",
    "    print(f\"\\nFilas duplicadas:\")\n",
    "    print(filas_duplicadas)\n",
    "    print(\"\\n\" + \"=\"*50 + \"\\n\")"
   ]
  },
  {
   "cell_type": "markdown",
   "metadata": {},
   "source": [
    "> Encontramos un album_id repetido dos veces"
   ]
  },
  {
   "cell_type": "code",
   "execution_count": 3,
   "metadata": {},
   "outputs": [],
   "source": [
    "#Verificamos que el campo album_realease_date tenga formato de fecha\n",
    "df['album_release_date'] = pd.to_datetime(df['album_release_date'], errors='coerce')\n"
   ]
  },
  {
   "cell_type": "markdown",
   "metadata": {},
   "source": [
    "# Análisis de los datos según tracks desanidados"
   ]
  },
  {
   "cell_type": "markdown",
   "metadata": {},
   "source": [
    "> **Haremos el mismo proceso pero con los datos del campo tracks desanidado**"
   ]
  },
  {
   "cell_type": "code",
   "execution_count": 20,
   "metadata": {},
   "outputs": [
    {
     "name": "stdout",
     "output_type": "stream",
     "text": [
      "            artist_id   artist_name  artist_popularity  \\\n",
      "0  06HL4z0CvFAxyc27GX  Taylor Swift                120   \n",
      "1  06HL4z0CvFAxyc27GX  Taylor Swift                120   \n",
      "2  06HL4z0CvFAxyc27GX  Taylor Swift                120   \n",
      "3  06HL4z0CvFAxyc27GX  Taylor Swift                120   \n",
      "4  06HL4z0CvFAxyc27GX  Taylor Swift                120   \n",
      "\n",
      "                 album_id                        album_name  \\\n",
      "0  1o59UpKw81iHR0HPiSkJR0  1989 (Taylor's Version) [Deluxe]   \n",
      "1  1o59UpKw81iHR0HPiSkJR0  1989 (Taylor's Version) [Deluxe]   \n",
      "2  1o59UpKw81iHR0HPiSkJR0  1989 (Taylor's Version) [Deluxe]   \n",
      "3  1o59UpKw81iHR0HPiSkJR0  1989 (Taylor's Version) [Deluxe]   \n",
      "4  1o59UpKw81iHR0HPiSkJR0  1989 (Taylor's Version) [Deluxe]   \n",
      "\n",
      "  album_release_date album_total_tracks  disc_number  duration_ms explicit  \\\n",
      "0         2023-10-27                 22            1       212600    False   \n",
      "1         2023-10-27                 22            1       231833    False   \n",
      "2         2023-10-27                 22            1       231000    False   \n",
      "3         2023-10-27                 22            1       235800    False   \n",
      "4         2023-10-27                 22            1       193289    False   \n",
      "\n",
      "   ...  audio_features_loudness  audio_features_mode  \\\n",
      "0  ...                   -4.840                    1   \n",
      "1  ...                   -5.376                    1   \n",
      "2  ...                   -4.785                    0   \n",
      "3  ...                   -5.968                    1   \n",
      "4  ...                   -5.579                    1   \n",
      "\n",
      "  audio_features_speechiness audio_features_acousticness  \\\n",
      "0                     0.0327                    0.009420   \n",
      "1                     0.0670                    5.000000   \n",
      "2                     0.0397                    0.000421   \n",
      "3                     0.0447                   -0.000537   \n",
      "4                     0.0317                    0.000656   \n",
      "\n",
      "   audio_features_instrumentalness  audio_features_liveness  \\\n",
      "0                         3.66e-05                   0.3670   \n",
      "1                                0                   0.1680   \n",
      "2             0.019700000000000002                   0.0899   \n",
      "3           5.5900000000000004e-05                   0.3850   \n",
      "4                                0                   0.1310   \n",
      "\n",
      "   audio_features_valence  audio_features_tempo       audio_features_id  \\\n",
      "0                   0.685               116.998  4WUepByoeqcedHoYhSNHRt   \n",
      "1                   0.701                96.057  0108kcWLnn2HlH2kedi1gn   \n",
      "2                   0.305                94.868  3Vpk1hfMAQme8VJ0SNRSkd   \n",
      "3                   0.206                92.021  1OcSfkeCg9hRC2sFKB4IMJ   \n",
      "4                   0.520                96.997  2k0ZEeAqzvYMcx9Qt5aClQ   \n",
      "\n",
      "   audio_features_time_signature  \n",
      "0                            4.0  \n",
      "1                            4.0  \n",
      "2                            4.0  \n",
      "3                            4.0  \n",
      "4                            4.0  \n",
      "\n",
      "[5 rows x 27 columns]\n"
     ]
    }
   ],
   "source": [
    "import pandas as pd\n",
    "\n",
    "# Cargar el CSV en un DataFrame\n",
    "df = pd.read_csv('DB/dataset.csv')\n",
    "print(df.head())"
   ]
  },
  {
   "cell_type": "code",
   "execution_count": 17,
   "metadata": {},
   "outputs": [
    {
     "name": "stdout",
     "output_type": "stream",
     "text": [
      "artist_id                           object\n",
      "artist_name                         object\n",
      "artist_popularity                    int64\n",
      "album_id                            object\n",
      "album_name                          object\n",
      "album_release_date                  object\n",
      "album_total_tracks                  object\n",
      "disc_number                          int64\n",
      "duration_ms                          int64\n",
      "explicit                            object\n",
      "track_number                         int64\n",
      "track_popularity                     int64\n",
      "track_id                            object\n",
      "track_name                          object\n",
      "audio_features_danceability        float64\n",
      "audio_features_energy              float64\n",
      "audio_features_key                 float64\n",
      "audio_features_loudness            float64\n",
      "audio_features_mode                  int64\n",
      "audio_features_speechiness         float64\n",
      "audio_features_acousticness        float64\n",
      "audio_features_instrumentalness     object\n",
      "audio_features_liveness            float64\n",
      "audio_features_valence             float64\n",
      "audio_features_tempo               float64\n",
      "audio_features_id                   object\n",
      "audio_features_time_signature      float64\n",
      "dtype: object\n"
     ]
    }
   ],
   "source": [
    "print(df.dtypes)"
   ]
  },
  {
   "cell_type": "code",
   "execution_count": 15,
   "metadata": {},
   "outputs": [
    {
     "name": "stdout",
     "output_type": "stream",
     "text": [
      "<class 'pandas.core.frame.DataFrame'>\n",
      "RangeIndex: 539 entries, 0 to 538\n",
      "Data columns (total 27 columns):\n",
      " #   Column                           Non-Null Count  Dtype  \n",
      "---  ------                           --------------  -----  \n",
      " 0   artist_id                        539 non-null    object \n",
      " 1   artist_name                      539 non-null    object \n",
      " 2   artist_popularity                539 non-null    int64  \n",
      " 3   album_id                         539 non-null    object \n",
      " 4   album_name                       477 non-null    object \n",
      " 5   album_release_date               539 non-null    object \n",
      " 6   album_total_tracks               539 non-null    object \n",
      " 7   disc_number                      539 non-null    int64  \n",
      " 8   duration_ms                      539 non-null    int64  \n",
      " 9   explicit                         539 non-null    object \n",
      " 10  track_number                     539 non-null    int64  \n",
      " 11  track_popularity                 539 non-null    int64  \n",
      " 12  track_id                         531 non-null    object \n",
      " 13  track_name                       532 non-null    object \n",
      " 14  audio_features_danceability      537 non-null    float64\n",
      " 15  audio_features_energy            537 non-null    float64\n",
      " 16  audio_features_key               538 non-null    float64\n",
      " 17  audio_features_loudness          537 non-null    float64\n",
      " 18  audio_features_mode              539 non-null    int64  \n",
      " 19  audio_features_speechiness       538 non-null    float64\n",
      " 20  audio_features_acousticness      538 non-null    float64\n",
      " 21  audio_features_instrumentalness  539 non-null    object \n",
      " 22  audio_features_liveness          538 non-null    float64\n",
      " 23  audio_features_valence           539 non-null    float64\n",
      " 24  audio_features_tempo             538 non-null    float64\n",
      " 25  audio_features_id                539 non-null    object \n",
      " 26  audio_features_time_signature    538 non-null    float64\n",
      "dtypes: float64(10), int64(6), object(11)\n",
      "memory usage: 113.8+ KB\n"
     ]
    }
   ],
   "source": [
    "df.info()"
   ]
  },
  {
   "cell_type": "code",
   "execution_count": 16,
   "metadata": {},
   "outputs": [
    {
     "name": "stdout",
     "output_type": "stream",
     "text": [
      "artist_id                           0\n",
      "artist_name                         0\n",
      "artist_popularity                   0\n",
      "album_id                            0\n",
      "album_name                         62\n",
      "album_release_date                  0\n",
      "album_total_tracks                  0\n",
      "disc_number                         0\n",
      "duration_ms                         0\n",
      "explicit                            0\n",
      "track_number                        0\n",
      "track_popularity                    0\n",
      "track_id                            8\n",
      "track_name                          7\n",
      "audio_features_danceability         2\n",
      "audio_features_energy               2\n",
      "audio_features_key                  1\n",
      "audio_features_loudness             2\n",
      "audio_features_mode                 0\n",
      "audio_features_speechiness          1\n",
      "audio_features_acousticness         1\n",
      "audio_features_instrumentalness     0\n",
      "audio_features_liveness             1\n",
      "audio_features_valence              0\n",
      "audio_features_tempo                1\n",
      "audio_features_id                   0\n",
      "audio_features_time_signature       1\n",
      "dtype: int64\n"
     ]
    }
   ],
   "source": [
    "print(df.isnull().sum())\n"
   ]
  },
  {
   "cell_type": "code",
   "execution_count": 21,
   "metadata": {},
   "outputs": [],
   "source": [
    "# Verifica que los tipos de datos en cada fila coincidan con dtypes para columnas int64 o float64\n",
    "for indice, fila in df.iterrows():\n",
    "    for columna, tipo_esperado in df.dtypes.items():\n",
    "        if tipo_esperado in [int, float]:  # Solo verifica las columnas con tipos int64 o float64\n",
    "            tipo_real = type(fila[columna])\n",
    "            if tipo_real != tipo_esperado:\n",
    "                print(f\"Tipo de dato incorrecto en fila {indice}, columna {columna}. Esperado: {tipo_esperado}, Real: {tipo_real}\")"
   ]
  },
  {
   "cell_type": "markdown",
   "metadata": {},
   "source": [
    "# Visualizaciones"
   ]
  },
  {
   "cell_type": "code",
   "execution_count": null,
   "metadata": {},
   "outputs": [],
   "source": []
  }
 ],
 "metadata": {
  "kernelspec": {
   "display_name": "Python 3",
   "language": "python",
   "name": "python3"
  },
  "language_info": {
   "codemirror_mode": {
    "name": "ipython",
    "version": 3
   },
   "file_extension": ".py",
   "mimetype": "text/x-python",
   "name": "python",
   "nbconvert_exporter": "python",
   "pygments_lexer": "ipython3",
   "version": "3.8.10"
  }
 },
 "nbformat": 4,
 "nbformat_minor": 2
}
